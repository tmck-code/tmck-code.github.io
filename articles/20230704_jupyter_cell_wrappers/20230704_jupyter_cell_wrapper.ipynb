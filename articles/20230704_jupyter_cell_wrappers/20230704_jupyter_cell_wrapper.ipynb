{
 "cells": [
  {
   "cell_type": "markdown",
   "id": "7995156e",
   "metadata": {},
   "source": [
    "# 20230704 Jupyter Cell Wrappers"
   ]
  },
  {
   "cell_type": "code",
   "execution_count": 1,
   "id": "cdadded4",
   "metadata": {},
   "outputs": [],
   "source": [
    "import IPython.core.events as events"
   ]
  },
  {
   "cell_type": "code",
   "execution_count": 2,
   "id": "fea01475",
   "metadata": {},
   "outputs": [],
   "source": [
    "import json\n",
    "import time\n",
    "\n",
    "class VarWatcher(object):\n",
    "    def __init__(self, ip):\n",
    "        self.shell = ip\n",
    "        self.timestamp = time.time()\n",
    "\n",
    "    def pre_run_cell(self, info):\n",
    "        print(info.__dict__)\n",
    "        self.timestamp = time.time()\n",
    "        print('time before run', self.timestamp)\n",
    "    \n",
    "    def _last_cell_id(self):\n",
    "        last_key = None\n",
    "        for cell_id, vs in self.shell.user_ns.items():\n",
    "            if not cell_id.startswith('_i'):\n",
    "                continue\n",
    "            last_key = cell_id\n",
    "        return last_key\n",
    "\n",
    "    def post_run_cell(self, info):\n",
    "        duration = time.time() - self.timestamp\n",
    "        print('time after run', time.time())\n",
    "        info = {\n",
    "            'execution_count': info.execution_count,\n",
    "            'result': info.result,\n",
    "            'duration': duration,\n",
    "            'CONFIG': self.shell.user_ns.get('CONFIG', None),\n",
    "            'cell': self._last_cell_id(),\n",
    "            'cell_vars': self.shell.user_ns.get(self._last_cell_id()),\n",
    "        }\n",
    "        print(json.dumps(info, indent=2, default=str))\n",
    "\n",
    "def load_ipython_extension(ip):\n",
    "    vw = VarWatcher(ip)\n",
    "    ip.events.register('pre_run_cell', vw.pre_run_cell)\n",
    "    ip.events.register('post_run_cell', vw.post_run_cell)"
   ]
  },
  {
   "cell_type": "code",
   "execution_count": 6,
   "id": "c6e2ad66",
   "metadata": {},
   "outputs": [
    {
     "name": "stdout",
     "output_type": "stream",
     "text": [
      "{'raw_cell': 'load_ipython_extension(get_ipython())', 'store_history': True, 'silent': False, 'shell_futures': True, 'cell_id': None}\n",
      "time before run 1688471733.490792\n",
      "{'raw_cell': 'load_ipython_extension(get_ipython())', 'store_history': True, 'silent': False, 'shell_futures': True, 'cell_id': None}\n",
      "time before run 1688471733.490828\n",
      "time after run 1688471733.491606\n",
      "Error in callback <bound method VarWatcher.post_run_cell of <__main__.VarWatcher object at 0x1071c0a10>> (for post_run_cell):\n"
     ]
    },
    {
     "ename": "AttributeError",
     "evalue": "'VarWatcher' object has no attribute 'last_key'",
     "output_type": "error",
     "traceback": [
      "\u001b[0;31m---------------------------------------------------------------------------\u001b[0m",
      "\u001b[0;31mAttributeError\u001b[0m                            Traceback (most recent call last)",
      "Cell \u001b[0;32mIn[1], line 30\u001b[0m, in \u001b[0;36mVarWatcher.post_run_cell\u001b[0;34m(self, info)\u001b[0m\n\u001b[1;32m     23\u001b[0m duration \u001b[38;5;241m=\u001b[39m time\u001b[38;5;241m.\u001b[39mtime() \u001b[38;5;241m-\u001b[39m \u001b[38;5;28mself\u001b[39m\u001b[38;5;241m.\u001b[39mtimestamp\n\u001b[1;32m     24\u001b[0m \u001b[38;5;28mprint\u001b[39m(\u001b[38;5;124m'\u001b[39m\u001b[38;5;124mtime after run\u001b[39m\u001b[38;5;124m'\u001b[39m, time\u001b[38;5;241m.\u001b[39mtime())\n\u001b[1;32m     25\u001b[0m info \u001b[38;5;241m=\u001b[39m {\n\u001b[1;32m     26\u001b[0m     \u001b[38;5;124m'\u001b[39m\u001b[38;5;124mexecution_count\u001b[39m\u001b[38;5;124m'\u001b[39m: info\u001b[38;5;241m.\u001b[39mexecution_count,\n\u001b[1;32m     27\u001b[0m     \u001b[38;5;124m'\u001b[39m\u001b[38;5;124mresult\u001b[39m\u001b[38;5;124m'\u001b[39m: info\u001b[38;5;241m.\u001b[39mresult,\n\u001b[1;32m     28\u001b[0m     \u001b[38;5;124m'\u001b[39m\u001b[38;5;124mduration\u001b[39m\u001b[38;5;124m'\u001b[39m: duration,\n\u001b[1;32m     29\u001b[0m     \u001b[38;5;124m'\u001b[39m\u001b[38;5;124mCONFIG\u001b[39m\u001b[38;5;124m'\u001b[39m: \u001b[38;5;28mself\u001b[39m\u001b[38;5;241m.\u001b[39mshell\u001b[38;5;241m.\u001b[39muser_ns\u001b[38;5;241m.\u001b[39mget(\u001b[38;5;124m'\u001b[39m\u001b[38;5;124mCONFIG\u001b[39m\u001b[38;5;124m'\u001b[39m, \u001b[38;5;28;01mNone\u001b[39;00m),\n\u001b[0;32m---> 30\u001b[0m     \u001b[38;5;124m'\u001b[39m\u001b[38;5;124mcell\u001b[39m\u001b[38;5;124m'\u001b[39m: \u001b[38;5;28;43mself\u001b[39;49m\u001b[38;5;241;43m.\u001b[39;49m\u001b[43mlast_key\u001b[49m(),\n\u001b[1;32m     31\u001b[0m     \u001b[38;5;124m'\u001b[39m\u001b[38;5;124mcell_vars\u001b[39m\u001b[38;5;124m'\u001b[39m: \u001b[38;5;28mself\u001b[39m\u001b[38;5;241m.\u001b[39mshell\u001b[38;5;241m.\u001b[39muser_ns\u001b[38;5;241m.\u001b[39mget(\u001b[38;5;28mself\u001b[39m\u001b[38;5;241m.\u001b[39mlast_key()),\n\u001b[1;32m     32\u001b[0m }\n\u001b[1;32m     33\u001b[0m \u001b[38;5;28mprint\u001b[39m(json\u001b[38;5;241m.\u001b[39mdumps(info, indent\u001b[38;5;241m=\u001b[39m\u001b[38;5;241m2\u001b[39m, default\u001b[38;5;241m=\u001b[39m\u001b[38;5;28mstr\u001b[39m))\n",
      "\u001b[0;31mAttributeError\u001b[0m: 'VarWatcher' object has no attribute 'last_key'"
     ]
    },
    {
     "name": "stdout",
     "output_type": "stream",
     "text": [
      "time after run 1688471733.509259\n",
      "Error in callback <bound method VarWatcher.post_run_cell of <__main__.VarWatcher object at 0x12093d710>> (for post_run_cell):\n"
     ]
    },
    {
     "ename": "AttributeError",
     "evalue": "'VarWatcher' object has no attribute 'last_key'",
     "output_type": "error",
     "traceback": [
      "\u001b[0;31m---------------------------------------------------------------------------\u001b[0m",
      "\u001b[0;31mAttributeError\u001b[0m                            Traceback (most recent call last)",
      "Cell \u001b[0;32mIn[3], line 30\u001b[0m, in \u001b[0;36mVarWatcher.post_run_cell\u001b[0;34m(self, info)\u001b[0m\n\u001b[1;32m     23\u001b[0m duration \u001b[38;5;241m=\u001b[39m time\u001b[38;5;241m.\u001b[39mtime() \u001b[38;5;241m-\u001b[39m \u001b[38;5;28mself\u001b[39m\u001b[38;5;241m.\u001b[39mtimestamp\n\u001b[1;32m     24\u001b[0m \u001b[38;5;28mprint\u001b[39m(\u001b[38;5;124m'\u001b[39m\u001b[38;5;124mtime after run\u001b[39m\u001b[38;5;124m'\u001b[39m, time\u001b[38;5;241m.\u001b[39mtime())\n\u001b[1;32m     25\u001b[0m info \u001b[38;5;241m=\u001b[39m {\n\u001b[1;32m     26\u001b[0m     \u001b[38;5;124m'\u001b[39m\u001b[38;5;124mexecution_count\u001b[39m\u001b[38;5;124m'\u001b[39m: info\u001b[38;5;241m.\u001b[39mexecution_count,\n\u001b[1;32m     27\u001b[0m     \u001b[38;5;124m'\u001b[39m\u001b[38;5;124mresult\u001b[39m\u001b[38;5;124m'\u001b[39m: info\u001b[38;5;241m.\u001b[39mresult,\n\u001b[1;32m     28\u001b[0m     \u001b[38;5;124m'\u001b[39m\u001b[38;5;124mduration\u001b[39m\u001b[38;5;124m'\u001b[39m: duration,\n\u001b[1;32m     29\u001b[0m     \u001b[38;5;124m'\u001b[39m\u001b[38;5;124mCONFIG\u001b[39m\u001b[38;5;124m'\u001b[39m: \u001b[38;5;28mself\u001b[39m\u001b[38;5;241m.\u001b[39mshell\u001b[38;5;241m.\u001b[39muser_ns\u001b[38;5;241m.\u001b[39mget(\u001b[38;5;124m'\u001b[39m\u001b[38;5;124mCONFIG\u001b[39m\u001b[38;5;124m'\u001b[39m, \u001b[38;5;28;01mNone\u001b[39;00m),\n\u001b[0;32m---> 30\u001b[0m     \u001b[38;5;124m'\u001b[39m\u001b[38;5;124mcell\u001b[39m\u001b[38;5;124m'\u001b[39m: \u001b[38;5;28;43mself\u001b[39;49m\u001b[38;5;241;43m.\u001b[39;49m\u001b[43mlast_key\u001b[49m(),\n\u001b[1;32m     31\u001b[0m     \u001b[38;5;124m'\u001b[39m\u001b[38;5;124mcell_vars\u001b[39m\u001b[38;5;124m'\u001b[39m: \u001b[38;5;28mself\u001b[39m\u001b[38;5;241m.\u001b[39mshell\u001b[38;5;241m.\u001b[39muser_ns\u001b[38;5;241m.\u001b[39mget(\u001b[38;5;28mself\u001b[39m\u001b[38;5;241m.\u001b[39mlast_key()),\n\u001b[1;32m     32\u001b[0m }\n\u001b[1;32m     33\u001b[0m \u001b[38;5;28mprint\u001b[39m(json\u001b[38;5;241m.\u001b[39mdumps(info, indent\u001b[38;5;241m=\u001b[39m\u001b[38;5;241m2\u001b[39m, default\u001b[38;5;241m=\u001b[39m\u001b[38;5;28mstr\u001b[39m))\n",
      "\u001b[0;31mAttributeError\u001b[0m: 'VarWatcher' object has no attribute 'last_key'"
     ]
    },
    {
     "name": "stdout",
     "output_type": "stream",
     "text": [
      "time after run 1688471733.5165591\n",
      "{\n",
      "  \"execution_count\": 6,\n",
      "  \"result\": null,\n",
      "  \"duration\": 0.025249958038330078,\n",
      "  \"CONFIG\": null,\n",
      "  \"cell\": \"_i6\",\n",
      "  \"cell_vars\": \"load_ipython_extension(get_ipython())\"\n",
      "}\n"
     ]
    }
   ],
   "source": [
    "load_ipython_extension(get_ipython())"
   ]
  },
  {
   "cell_type": "code",
   "execution_count": 3,
   "id": "ae385473",
   "metadata": {},
   "outputs": [
    {
     "name": "stdout",
     "output_type": "stream",
     "text": [
      "CELL VARS: _i2 load_ipython_extension(get_ipython())\n",
      "{'raw_cell': 'x=1', 'store_history': True, 'silent': False, 'shell_futures': True, 'cell_id': None}\n",
      "Error in callback <bound method VarWatcher.pre_run_cell of <__main__.VarWatcher object at 0x1069c1a90>> (for pre_run_cell):\n"
     ]
    },
    {
     "ename": "NameError",
     "evalue": "name 'NoneÎ' is not defined",
     "output_type": "error",
     "traceback": [
      "\u001b[0;31m---------------------------------------------------------------------------\u001b[0m",
      "\u001b[0;31mNameError\u001b[0m                                 Traceback (most recent call last)",
      "Cell \u001b[0;32mIn[1], line 11\u001b[0m, in \u001b[0;36mVarWatcher.pre_run_cell\u001b[0;34m(self, info)\u001b[0m\n\u001b[1;32m      9\u001b[0m \u001b[38;5;28;01mdef\u001b[39;00m \u001b[38;5;21mpre_run_cell\u001b[39m(\u001b[38;5;28mself\u001b[39m, info):\n\u001b[1;32m     10\u001b[0m     \u001b[38;5;28mprint\u001b[39m(info\u001b[38;5;241m.\u001b[39m\u001b[38;5;18m__dict__\u001b[39m)\n\u001b[0;32m---> 11\u001b[0m     last_key \u001b[38;5;241m=\u001b[39m \u001b[43mNoneÎ\u001b[49m\n\u001b[1;32m     12\u001b[0m     \u001b[38;5;28mself\u001b[39m\u001b[38;5;241m.\u001b[39mtimestamp \u001b[38;5;241m=\u001b[39m time\u001b[38;5;241m.\u001b[39mtime()\n\u001b[1;32m     13\u001b[0m     \u001b[38;5;28mprint\u001b[39m(\u001b[38;5;124m'\u001b[39m\u001b[38;5;124mtime before run\u001b[39m\u001b[38;5;124m'\u001b[39m, \u001b[38;5;28mself\u001b[39m\u001b[38;5;241m.\u001b[39mtimestamp)\n",
      "\u001b[0;31mNameError\u001b[0m: name 'NoneÎ' is not defined"
     ]
    },
    {
     "name": "stdout",
     "output_type": "stream",
     "text": [
      "time after run 1688471469.449755\n",
      "{\n",
      "  \"execution_count\": 3,\n",
      "  \"result\": null,\n",
      "  \"time\": 1.9666731357574463,\n",
      "  \"CONFIG\": null\n",
      "}\n"
     ]
    }
   ],
   "source": [
    "x=1"
   ]
  },
  {
   "cell_type": "code",
   "execution_count": null,
   "id": "7e612aa4",
   "metadata": {},
   "outputs": [],
   "source": []
  }
 ],
 "metadata": {
  "kernelspec": {
   "display_name": "Python 3 (ipykernel)",
   "language": "python",
   "name": "python3"
  },
  "language_info": {
   "codemirror_mode": {
    "name": "ipython",
    "version": 3
   },
   "file_extension": ".py",
   "mimetype": "text/x-python",
   "name": "python",
   "nbconvert_exporter": "python",
   "pygments_lexer": "ipython3",
   "version": "3.11.4"
  }
 },
 "nbformat": 4,
 "nbformat_minor": 5
}
