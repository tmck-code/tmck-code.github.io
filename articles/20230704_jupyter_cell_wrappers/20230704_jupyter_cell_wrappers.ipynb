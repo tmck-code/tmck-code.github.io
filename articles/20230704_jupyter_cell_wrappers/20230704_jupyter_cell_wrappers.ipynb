{
 "cells": [
  {
   "cell_type": "markdown",
   "id": "acbc65a2",
   "metadata": {},
   "source": [
    "# 20230704 Jupyter Cell Wrappers"
   ]
  },
  {
   "cell_type": "code",
   "execution_count": 1,
   "id": "b6251b7c",
   "metadata": {},
   "outputs": [],
   "source": [
    "import IPython.core.events as events"
   ]
  },
  {
   "cell_type": "code",
   "execution_count": 2,
   "id": "51a311c0",
   "metadata": {},
   "outputs": [],
   "source": [
    "import json\n",
    "import time\n",
    "\n",
    "class VarWatcher(object):\n",
    "    def __init__(self, ip):\n",
    "        self.shell = ip\n",
    "        self.timestamp = time.time()\n",
    "\n",
    "    def pre_run_cell(self, info):\n",
    "        self.timestamp = time.time()\n",
    "        print('time before run', self.timestamp)\n",
    "    \n",
    "    def _last_cell_id(self):\n",
    "        last_key = None\n",
    "        for cell_id, vs in self.shell.user_ns.items():\n",
    "            if not cell_id.startswith('_i'):\n",
    "                continue\n",
    "            last_key = cell_id\n",
    "        return last_key\n",
    "\n",
    "    def post_run_cell(self, info):\n",
    "        duration = time.time() - self.timestamp\n",
    "        print('time after run', time.time())\n",
    "        info = {\n",
    "            'execution_count': info.execution_count,\n",
    "            'result': info.result,\n",
    "            'duration': duration,\n",
    "            'CONFIG': self.shell.user_ns.get('CONFIG', None),\n",
    "            'cell': self._last_cell_id(),\n",
    "            'cell_vars': self.shell.user_ns.get(self._last_cell_id()),\n",
    "        }\n",
    "        print(json.dumps(info, indent=2, default=str))\n",
    "\n",
    "def load_ipython_extension(ip):\n",
    "    vw = VarWatcher(ip)\n",
    "    ip.events.register('pre_run_cell', vw.pre_run_cell)\n",
    "    ip.events.register('post_run_cell', vw.post_run_cell)"
   ]
  },
  {
   "cell_type": "code",
   "execution_count": 3,
   "id": "726e08b7",
   "metadata": {},
   "outputs": [
    {
     "name": "stdout",
     "output_type": "stream",
     "text": [
      "time after run 1688471982.5583098\n",
      "{\n",
      "  \"execution_count\": 3,\n",
      "  \"result\": null,\n",
      "  \"duration\": 9.775161743164062e-05,\n",
      "  \"CONFIG\": null,\n",
      "  \"cell\": \"_i3\",\n",
      "  \"cell_vars\": \"load_ipython_extension(get_ipython())\"\n",
      "}\n"
     ]
    }
   ],
   "source": [
    "load_ipython_extension(get_ipython())"
   ]
  },
  {
   "cell_type": "code",
   "execution_count": 4,
   "id": "9ead9048",
   "metadata": {},
   "outputs": [
    {
     "name": "stdout",
     "output_type": "stream",
     "text": [
      "time before run 1688471982.562119\n",
      "time after run 1688471982.562293\n",
      "{\n",
      "  \"execution_count\": 4,\n",
      "  \"result\": null,\n",
      "  \"duration\": 0.0001690387725830078,\n",
      "  \"CONFIG\": null,\n",
      "  \"cell\": \"_i4\",\n",
      "  \"cell_vars\": \"x=1\"\n",
      "}\n"
     ]
    }
   ],
   "source": [
    "x=1"
   ]
  },
  {
   "cell_type": "code",
   "execution_count": 5,
   "id": "a6b9f4ea",
   "metadata": {},
   "outputs": [
    {
     "name": "stdout",
     "output_type": "stream",
     "text": [
      "time before run 1688471982.5659258\n",
      "time after run 1688471982.566106\n",
      "{\n",
      "  \"execution_count\": 5,\n",
      "  \"result\": null,\n",
      "  \"duration\": 0.000179290771484375,\n",
      "  \"CONFIG\": {\n",
      "    \"hello\": \"WORLD\"\n",
      "  },\n",
      "  \"cell\": \"_i5\",\n",
      "  \"cell_vars\": \"CONFIG = {'hello': 'WORLD'}\"\n",
      "}\n"
     ]
    }
   ],
   "source": [
    "CONFIG = {'hello': 'WORLD'}"
   ]
  },
  {
   "cell_type": "code",
   "execution_count": null,
   "id": "c3539859",
   "metadata": {},
   "outputs": [],
   "source": []
  }
 ],
 "metadata": {
  "kernelspec": {
   "display_name": "Python 3 (ipykernel)",
   "language": "python",
   "name": "python3"
  },
  "language_info": {
   "codemirror_mode": {
    "name": "ipython",
    "version": 3
   },
   "file_extension": ".py",
   "mimetype": "text/x-python",
   "name": "python",
   "nbconvert_exporter": "python",
   "pygments_lexer": "ipython3",
   "version": "3.11.4"
  }
 },
 "nbformat": 4,
 "nbformat_minor": 5
}
